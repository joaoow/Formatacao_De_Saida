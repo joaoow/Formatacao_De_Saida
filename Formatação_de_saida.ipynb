{
  "nbformat": 4,
  "nbformat_minor": 0,
  "metadata": {
    "colab": {
      "provenance": []
    },
    "kernelspec": {
      "name": "python3",
      "display_name": "Python 3"
    },
    "language_info": {
      "name": "python"
    }
  },
  "cells": [
    {
      "cell_type": "code",
      "execution_count": 2,
      "metadata": {
        "colab": {
          "base_uri": "https://localhost:8080/"
        },
        "id": "ypdwt3a_GZQu",
        "outputId": "a8da86b1-7605-4723-cf5c-7954d6b594fe"
      },
      "outputs": [
        {
          "output_type": "stream",
          "name": "stdout",
          "text": [
            "10 : 26 : 18\n"
          ]
        }
      ],
      "source": [
        "#imprimir hora e minutos na tela\n",
        "hora = 10\n",
        "minutos = 26\n",
        "segundos = 18\n",
        "print(f'{hora} : {minutos} : {segundos}')"
      ]
    }
  ]
}